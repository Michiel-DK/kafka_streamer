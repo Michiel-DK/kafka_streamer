{
 "cells": [
  {
   "cell_type": "code",
   "execution_count": 1,
   "metadata": {},
   "outputs": [],
   "source": [
    "import pandas as pd"
   ]
  },
  {
   "cell_type": "code",
   "execution_count": 2,
   "metadata": {},
   "outputs": [],
   "source": [
    "df = pd.read_csv('../data/bitcoin_2017_to_2023.csv')"
   ]
  },
  {
   "cell_type": "code",
   "execution_count": 3,
   "metadata": {},
   "outputs": [
    {
     "data": {
      "text/html": [
       "<div>\n",
       "<style scoped>\n",
       "    .dataframe tbody tr th:only-of-type {\n",
       "        vertical-align: middle;\n",
       "    }\n",
       "\n",
       "    .dataframe tbody tr th {\n",
       "        vertical-align: top;\n",
       "    }\n",
       "\n",
       "    .dataframe thead th {\n",
       "        text-align: right;\n",
       "    }\n",
       "</style>\n",
       "<table border=\"1\" class=\"dataframe\">\n",
       "  <thead>\n",
       "    <tr style=\"text-align: right;\">\n",
       "      <th></th>\n",
       "      <th>timestamp</th>\n",
       "      <th>open</th>\n",
       "      <th>high</th>\n",
       "      <th>low</th>\n",
       "      <th>close</th>\n",
       "      <th>volume</th>\n",
       "      <th>quote_asset_volume</th>\n",
       "      <th>number_of_trades</th>\n",
       "      <th>taker_buy_base_asset_volume</th>\n",
       "      <th>taker_buy_quote_asset_volume</th>\n",
       "    </tr>\n",
       "  </thead>\n",
       "  <tbody>\n",
       "    <tr>\n",
       "      <th>0</th>\n",
       "      <td>2023-08-01 13:19:00</td>\n",
       "      <td>28902.48</td>\n",
       "      <td>28902.49</td>\n",
       "      <td>28902.48</td>\n",
       "      <td>28902.49</td>\n",
       "      <td>4.686580</td>\n",
       "      <td>1.354538e+05</td>\n",
       "      <td>258</td>\n",
       "      <td>0.893910</td>\n",
       "      <td>25836.224836</td>\n",
       "    </tr>\n",
       "    <tr>\n",
       "      <th>1</th>\n",
       "      <td>2023-08-01 13:18:00</td>\n",
       "      <td>28902.48</td>\n",
       "      <td>28902.49</td>\n",
       "      <td>28902.48</td>\n",
       "      <td>28902.49</td>\n",
       "      <td>4.775890</td>\n",
       "      <td>1.380351e+05</td>\n",
       "      <td>317</td>\n",
       "      <td>2.245460</td>\n",
       "      <td>64899.385195</td>\n",
       "    </tr>\n",
       "    <tr>\n",
       "      <th>2</th>\n",
       "      <td>2023-08-01 13:17:00</td>\n",
       "      <td>28908.52</td>\n",
       "      <td>28908.53</td>\n",
       "      <td>28902.48</td>\n",
       "      <td>28902.49</td>\n",
       "      <td>11.522630</td>\n",
       "      <td>3.330532e+05</td>\n",
       "      <td>451</td>\n",
       "      <td>2.708730</td>\n",
       "      <td>78290.170121</td>\n",
       "    </tr>\n",
       "    <tr>\n",
       "      <th>3</th>\n",
       "      <td>2023-08-01 13:16:00</td>\n",
       "      <td>28907.41</td>\n",
       "      <td>28912.74</td>\n",
       "      <td>28907.41</td>\n",
       "      <td>28908.53</td>\n",
       "      <td>15.896100</td>\n",
       "      <td>4.595556e+05</td>\n",
       "      <td>483</td>\n",
       "      <td>10.229810</td>\n",
       "      <td>295738.166916</td>\n",
       "    </tr>\n",
       "    <tr>\n",
       "      <th>4</th>\n",
       "      <td>2023-08-01 13:15:00</td>\n",
       "      <td>28896.00</td>\n",
       "      <td>28907.42</td>\n",
       "      <td>28893.03</td>\n",
       "      <td>28907.41</td>\n",
       "      <td>37.746570</td>\n",
       "      <td>1.090761e+06</td>\n",
       "      <td>686</td>\n",
       "      <td>16.504520</td>\n",
       "      <td>476955.246611</td>\n",
       "    </tr>\n",
       "    <tr>\n",
       "      <th>...</th>\n",
       "      <td>...</td>\n",
       "      <td>...</td>\n",
       "      <td>...</td>\n",
       "      <td>...</td>\n",
       "      <td>...</td>\n",
       "      <td>...</td>\n",
       "      <td>...</td>\n",
       "      <td>...</td>\n",
       "      <td>...</td>\n",
       "      <td>...</td>\n",
       "    </tr>\n",
       "    <tr>\n",
       "      <th>3125995</th>\n",
       "      <td>2017-08-17 04:04:00</td>\n",
       "      <td>4261.48</td>\n",
       "      <td>4261.48</td>\n",
       "      <td>4261.48</td>\n",
       "      <td>4261.48</td>\n",
       "      <td>0.140796</td>\n",
       "      <td>5.999993e+02</td>\n",
       "      <td>1</td>\n",
       "      <td>0.140796</td>\n",
       "      <td>599.999338</td>\n",
       "    </tr>\n",
       "    <tr>\n",
       "      <th>3125996</th>\n",
       "      <td>2017-08-17 04:03:00</td>\n",
       "      <td>4261.48</td>\n",
       "      <td>4261.48</td>\n",
       "      <td>4261.48</td>\n",
       "      <td>4261.48</td>\n",
       "      <td>0.012008</td>\n",
       "      <td>5.117185e+01</td>\n",
       "      <td>3</td>\n",
       "      <td>0.012008</td>\n",
       "      <td>51.171852</td>\n",
       "    </tr>\n",
       "    <tr>\n",
       "      <th>3125997</th>\n",
       "      <td>2017-08-17 04:02:00</td>\n",
       "      <td>4280.56</td>\n",
       "      <td>4280.56</td>\n",
       "      <td>4280.56</td>\n",
       "      <td>4280.56</td>\n",
       "      <td>0.261074</td>\n",
       "      <td>1.117543e+03</td>\n",
       "      <td>2</td>\n",
       "      <td>0.261074</td>\n",
       "      <td>1117.542921</td>\n",
       "    </tr>\n",
       "    <tr>\n",
       "      <th>3125998</th>\n",
       "      <td>2017-08-17 04:01:00</td>\n",
       "      <td>4261.48</td>\n",
       "      <td>4261.48</td>\n",
       "      <td>4261.48</td>\n",
       "      <td>4261.48</td>\n",
       "      <td>0.000000</td>\n",
       "      <td>0.000000e+00</td>\n",
       "      <td>0</td>\n",
       "      <td>0.000000</td>\n",
       "      <td>0.000000</td>\n",
       "    </tr>\n",
       "    <tr>\n",
       "      <th>3125999</th>\n",
       "      <td>2017-08-17 04:00:00</td>\n",
       "      <td>4261.48</td>\n",
       "      <td>4261.48</td>\n",
       "      <td>4261.48</td>\n",
       "      <td>4261.48</td>\n",
       "      <td>1.775183</td>\n",
       "      <td>7.564907e+03</td>\n",
       "      <td>3</td>\n",
       "      <td>0.075183</td>\n",
       "      <td>320.390851</td>\n",
       "    </tr>\n",
       "  </tbody>\n",
       "</table>\n",
       "<p>3126000 rows × 10 columns</p>\n",
       "</div>"
      ],
      "text/plain": [
       "                   timestamp      open      high       low     close  \\\n",
       "0        2023-08-01 13:19:00  28902.48  28902.49  28902.48  28902.49   \n",
       "1        2023-08-01 13:18:00  28902.48  28902.49  28902.48  28902.49   \n",
       "2        2023-08-01 13:17:00  28908.52  28908.53  28902.48  28902.49   \n",
       "3        2023-08-01 13:16:00  28907.41  28912.74  28907.41  28908.53   \n",
       "4        2023-08-01 13:15:00  28896.00  28907.42  28893.03  28907.41   \n",
       "...                      ...       ...       ...       ...       ...   \n",
       "3125995  2017-08-17 04:04:00   4261.48   4261.48   4261.48   4261.48   \n",
       "3125996  2017-08-17 04:03:00   4261.48   4261.48   4261.48   4261.48   \n",
       "3125997  2017-08-17 04:02:00   4280.56   4280.56   4280.56   4280.56   \n",
       "3125998  2017-08-17 04:01:00   4261.48   4261.48   4261.48   4261.48   \n",
       "3125999  2017-08-17 04:00:00   4261.48   4261.48   4261.48   4261.48   \n",
       "\n",
       "            volume  quote_asset_volume  number_of_trades  \\\n",
       "0         4.686580        1.354538e+05               258   \n",
       "1         4.775890        1.380351e+05               317   \n",
       "2        11.522630        3.330532e+05               451   \n",
       "3        15.896100        4.595556e+05               483   \n",
       "4        37.746570        1.090761e+06               686   \n",
       "...            ...                 ...               ...   \n",
       "3125995   0.140796        5.999993e+02                 1   \n",
       "3125996   0.012008        5.117185e+01                 3   \n",
       "3125997   0.261074        1.117543e+03                 2   \n",
       "3125998   0.000000        0.000000e+00                 0   \n",
       "3125999   1.775183        7.564907e+03                 3   \n",
       "\n",
       "         taker_buy_base_asset_volume  taker_buy_quote_asset_volume  \n",
       "0                           0.893910                  25836.224836  \n",
       "1                           2.245460                  64899.385195  \n",
       "2                           2.708730                  78290.170121  \n",
       "3                          10.229810                 295738.166916  \n",
       "4                          16.504520                 476955.246611  \n",
       "...                              ...                           ...  \n",
       "3125995                     0.140796                    599.999338  \n",
       "3125996                     0.012008                     51.171852  \n",
       "3125997                     0.261074                   1117.542921  \n",
       "3125998                     0.000000                      0.000000  \n",
       "3125999                     0.075183                    320.390851  \n",
       "\n",
       "[3126000 rows x 10 columns]"
      ]
     },
     "execution_count": 3,
     "metadata": {},
     "output_type": "execute_result"
    }
   ],
   "source": [
    "df"
   ]
  },
  {
   "cell_type": "code",
   "execution_count": 4,
   "metadata": {},
   "outputs": [],
   "source": [
    "df['timestamp'] = df.timestamp.astype('datetime64[ns]')"
   ]
  },
  {
   "cell_type": "code",
   "execution_count": 5,
   "metadata": {},
   "outputs": [
    {
     "data": {
      "text/plain": [
       "timestamp                       datetime64[ns]\n",
       "open                                   float64\n",
       "high                                   float64\n",
       "low                                    float64\n",
       "close                                  float64\n",
       "volume                                 float64\n",
       "quote_asset_volume                     float64\n",
       "number_of_trades                         int64\n",
       "taker_buy_base_asset_volume            float64\n",
       "taker_buy_quote_asset_volume           float64\n",
       "dtype: object"
      ]
     },
     "execution_count": 5,
     "metadata": {},
     "output_type": "execute_result"
    }
   ],
   "source": [
    "df.dtypes"
   ]
  },
  {
   "cell_type": "code",
   "execution_count": 15,
   "metadata": {},
   "outputs": [
    {
     "data": {
      "text/plain": [
       "timestamp\n",
       "2022    526053\n",
       "2020    525870\n",
       "2021    524841\n",
       "2019    524273\n",
       "2018    522067\n",
       "2023    306400\n",
       "2017    196496\n",
       "Name: count, dtype: int64"
      ]
     },
     "execution_count": 15,
     "metadata": {},
     "output_type": "execute_result"
    }
   ],
   "source": [
    "df['timestamp'].dt.year.value_counts()"
   ]
  },
  {
   "cell_type": "code",
   "execution_count": 8,
   "metadata": {},
   "outputs": [
    {
     "ename": "KeyError",
     "evalue": "0          2023\n1          2023\n2          2023\n3          2023\n4          2023\n           ... \n3125995    2017\n3125996    2017\n3125997    2017\n3125998    2017\n3125999    2017\nName: timestamp, Length: 3126000, dtype: int32",
     "output_type": "error",
     "traceback": [
      "\u001b[0;31m---------------------------------------------------------------------------\u001b[0m",
      "\u001b[0;31mKeyError\u001b[0m                                  Traceback (most recent call last)",
      "\u001b[0;32m/var/folders/3l/70h6qcrd72q0j5x4sscw7qn40000gn/T/ipykernel_93473/434367209.py\u001b[0m in \u001b[0;36m?\u001b[0;34m()\u001b[0m\n\u001b[0;32m----> 1\u001b[0;31m \u001b[0mdf_sorted\u001b[0m \u001b[0;34m=\u001b[0m \u001b[0mdf\u001b[0m\u001b[0;34m.\u001b[0m\u001b[0msort_values\u001b[0m\u001b[0;34m(\u001b[0m\u001b[0mby\u001b[0m\u001b[0;34m=\u001b[0m\u001b[0mdf\u001b[0m\u001b[0;34m[\u001b[0m\u001b[0;34m'timestamp'\u001b[0m\u001b[0;34m]\u001b[0m\u001b[0;34m.\u001b[0m\u001b[0mdt\u001b[0m\u001b[0;34m.\u001b[0m\u001b[0myear\u001b[0m\u001b[0;34m)\u001b[0m\u001b[0;34m\u001b[0m\u001b[0;34m\u001b[0m\u001b[0m\n\u001b[0m\u001b[1;32m      2\u001b[0m \u001b[0mdf_sorted\u001b[0m\u001b[0;34m\u001b[0m\u001b[0;34m\u001b[0m\u001b[0m\n",
      "\u001b[0;32m~/.pyenv/versions/3.10.6/envs/kafka_streamer/lib/python3.10/site-packages/pandas/core/frame.py\u001b[0m in \u001b[0;36m?\u001b[0;34m(self, by, axis, ascending, inplace, kind, na_position, ignore_index, key)\u001b[0m\n\u001b[1;32m   7185\u001b[0m             )\n\u001b[1;32m   7186\u001b[0m         \u001b[0;32melif\u001b[0m \u001b[0mlen\u001b[0m\u001b[0;34m(\u001b[0m\u001b[0mby\u001b[0m\u001b[0;34m)\u001b[0m\u001b[0;34m:\u001b[0m\u001b[0;34m\u001b[0m\u001b[0;34m\u001b[0m\u001b[0m\n\u001b[1;32m   7187\u001b[0m             \u001b[0;31m# len(by) == 1\u001b[0m\u001b[0;34m\u001b[0m\u001b[0;34m\u001b[0m\u001b[0m\n\u001b[1;32m   7188\u001b[0m \u001b[0;34m\u001b[0m\u001b[0m\n\u001b[0;32m-> 7189\u001b[0;31m             \u001b[0mk\u001b[0m \u001b[0;34m=\u001b[0m \u001b[0mself\u001b[0m\u001b[0;34m.\u001b[0m\u001b[0m_get_label_or_level_values\u001b[0m\u001b[0;34m(\u001b[0m\u001b[0mby\u001b[0m\u001b[0;34m[\u001b[0m\u001b[0;36m0\u001b[0m\u001b[0;34m]\u001b[0m\u001b[0;34m,\u001b[0m \u001b[0maxis\u001b[0m\u001b[0;34m=\u001b[0m\u001b[0maxis\u001b[0m\u001b[0;34m)\u001b[0m\u001b[0;34m\u001b[0m\u001b[0;34m\u001b[0m\u001b[0m\n\u001b[0m\u001b[1;32m   7190\u001b[0m \u001b[0;34m\u001b[0m\u001b[0m\n\u001b[1;32m   7191\u001b[0m             \u001b[0;31m# need to rewrap column in Series to apply key function\u001b[0m\u001b[0;34m\u001b[0m\u001b[0;34m\u001b[0m\u001b[0m\n\u001b[1;32m   7192\u001b[0m             \u001b[0;32mif\u001b[0m \u001b[0mkey\u001b[0m \u001b[0;32mis\u001b[0m \u001b[0;32mnot\u001b[0m \u001b[0;32mNone\u001b[0m\u001b[0;34m:\u001b[0m\u001b[0;34m\u001b[0m\u001b[0;34m\u001b[0m\u001b[0m\n",
      "\u001b[0;32m~/.pyenv/versions/3.10.6/envs/kafka_streamer/lib/python3.10/site-packages/pandas/core/generic.py\u001b[0m in \u001b[0;36m?\u001b[0;34m(self, key, axis)\u001b[0m\n\u001b[1;32m   1907\u001b[0m             \u001b[0mvalues\u001b[0m \u001b[0;34m=\u001b[0m \u001b[0mself\u001b[0m\u001b[0;34m.\u001b[0m\u001b[0mxs\u001b[0m\u001b[0;34m(\u001b[0m\u001b[0mkey\u001b[0m\u001b[0;34m,\u001b[0m \u001b[0maxis\u001b[0m\u001b[0;34m=\u001b[0m\u001b[0mother_axes\u001b[0m\u001b[0;34m[\u001b[0m\u001b[0;36m0\u001b[0m\u001b[0;34m]\u001b[0m\u001b[0;34m)\u001b[0m\u001b[0;34m.\u001b[0m\u001b[0m_values\u001b[0m\u001b[0;34m\u001b[0m\u001b[0;34m\u001b[0m\u001b[0m\n\u001b[1;32m   1908\u001b[0m         \u001b[0;32melif\u001b[0m \u001b[0mself\u001b[0m\u001b[0;34m.\u001b[0m\u001b[0m_is_level_reference\u001b[0m\u001b[0;34m(\u001b[0m\u001b[0mkey\u001b[0m\u001b[0;34m,\u001b[0m \u001b[0maxis\u001b[0m\u001b[0;34m=\u001b[0m\u001b[0maxis\u001b[0m\u001b[0;34m)\u001b[0m\u001b[0;34m:\u001b[0m\u001b[0;34m\u001b[0m\u001b[0;34m\u001b[0m\u001b[0m\n\u001b[1;32m   1909\u001b[0m             \u001b[0mvalues\u001b[0m \u001b[0;34m=\u001b[0m \u001b[0mself\u001b[0m\u001b[0;34m.\u001b[0m\u001b[0maxes\u001b[0m\u001b[0;34m[\u001b[0m\u001b[0maxis\u001b[0m\u001b[0;34m]\u001b[0m\u001b[0;34m.\u001b[0m\u001b[0mget_level_values\u001b[0m\u001b[0;34m(\u001b[0m\u001b[0mkey\u001b[0m\u001b[0;34m)\u001b[0m\u001b[0;34m.\u001b[0m\u001b[0m_values\u001b[0m\u001b[0;34m\u001b[0m\u001b[0;34m\u001b[0m\u001b[0m\n\u001b[1;32m   1910\u001b[0m         \u001b[0;32melse\u001b[0m\u001b[0;34m:\u001b[0m\u001b[0;34m\u001b[0m\u001b[0;34m\u001b[0m\u001b[0m\n\u001b[0;32m-> 1911\u001b[0;31m             \u001b[0;32mraise\u001b[0m \u001b[0mKeyError\u001b[0m\u001b[0;34m(\u001b[0m\u001b[0mkey\u001b[0m\u001b[0;34m)\u001b[0m\u001b[0;34m\u001b[0m\u001b[0;34m\u001b[0m\u001b[0m\n\u001b[0m\u001b[1;32m   1912\u001b[0m \u001b[0;34m\u001b[0m\u001b[0m\n\u001b[1;32m   1913\u001b[0m         \u001b[0;31m# Check for duplicates\u001b[0m\u001b[0;34m\u001b[0m\u001b[0;34m\u001b[0m\u001b[0m\n\u001b[1;32m   1914\u001b[0m         \u001b[0;32mif\u001b[0m \u001b[0mvalues\u001b[0m\u001b[0;34m.\u001b[0m\u001b[0mndim\u001b[0m \u001b[0;34m>\u001b[0m \u001b[0;36m1\u001b[0m\u001b[0;34m:\u001b[0m\u001b[0;34m\u001b[0m\u001b[0;34m\u001b[0m\u001b[0m\n",
      "\u001b[0;31mKeyError\u001b[0m: 0          2023\n1          2023\n2          2023\n3          2023\n4          2023\n           ... \n3125995    2017\n3125996    2017\n3125997    2017\n3125998    2017\n3125999    2017\nName: timestamp, Length: 3126000, dtype: int32"
     ]
    }
   ],
   "source": [
    "df_sorted = df.sort_values(by=df['timestamp'].dt.year)\n",
    "df_sorted"
   ]
  },
  {
   "cell_type": "code",
   "execution_count": null,
   "metadata": {},
   "outputs": [],
   "source": []
  },
  {
   "cell_type": "code",
   "execution_count": 6,
   "metadata": {},
   "outputs": [],
   "source": [
    "df_small = df[df['timestamp'].dt.year >= 2022]"
   ]
  },
  {
   "cell_type": "code",
   "execution_count": 57,
   "metadata": {},
   "outputs": [],
   "source": [
    "from datetime import datetime\n",
    "\n",
    "# Define the date string\n",
    "def to_unix(date_string):\n",
    "\n",
    "    # Convert the date string to a datetime object\n",
    "    #datetime_object = datetime.strptime(date_string, '%Y-%m-%d %H:%M:%S')\n",
    "\n",
    "    # Convert the datetime object to a Unix timestamp\n",
    "    unix_timestamp = int(date_string.timestamp())\n",
    "    \n",
    "    return unix_timestamp"
   ]
  },
  {
   "cell_type": "code",
   "execution_count": 58,
   "metadata": {},
   "outputs": [
    {
     "name": "stderr",
     "output_type": "stream",
     "text": [
      "/var/folders/3l/70h6qcrd72q0j5x4sscw7qn40000gn/T/ipykernel_74559/4276894912.py:1: SettingWithCopyWarning: \n",
      "A value is trying to be set on a copy of a slice from a DataFrame.\n",
      "Try using .loc[row_indexer,col_indexer] = value instead\n",
      "\n",
      "See the caveats in the documentation: https://pandas.pydata.org/pandas-docs/stable/user_guide/indexing.html#returning-a-view-versus-a-copy\n",
      "  df_small['unix'] = df_small.timestamp.map(to_unix)\n",
      "/var/folders/3l/70h6qcrd72q0j5x4sscw7qn40000gn/T/ipykernel_74559/4276894912.py:2: SettingWithCopyWarning: \n",
      "A value is trying to be set on a copy of a slice from a DataFrame.\n",
      "Try using .loc[row_indexer,col_indexer] = value instead\n",
      "\n",
      "See the caveats in the documentation: https://pandas.pydata.org/pandas-docs/stable/user_guide/indexing.html#returning-a-view-versus-a-copy\n",
      "  df_small['symbol'] = 'BTC/USD'\n",
      "/var/folders/3l/70h6qcrd72q0j5x4sscw7qn40000gn/T/ipykernel_74559/4276894912.py:3: SettingWithCopyWarning: \n",
      "A value is trying to be set on a copy of a slice from a DataFrame\n",
      "\n",
      "See the caveats in the documentation: https://pandas.pydata.org/pandas-docs/stable/user_guide/indexing.html#returning-a-view-versus-a-copy\n",
      "  df_small.rename(columns={'timestamp': 'date', 'volume': 'Volume BTC', 'quote_asset_volume':'Volume USD' }, inplace=True)\n"
     ]
    }
   ],
   "source": [
    "df_small['unix'] = df_small.timestamp.map(to_unix)\n",
    "df_small['symbol'] = 'BTC/USD'\n",
    "df_small.rename(columns={'timestamp': 'date', 'volume': 'Volume BTC', 'quote_asset_volume':'Volume USD' }, inplace=True)"
   ]
  },
  {
   "cell_type": "code",
   "execution_count": 61,
   "metadata": {},
   "outputs": [],
   "source": [
    "df_small = df_small[['unix', 'date','symbol', 'open', 'high', 'low', 'close', 'Volume BTC', 'Volume USD']].drop_duplicates()"
   ]
  },
  {
   "cell_type": "code",
   "execution_count": 67,
   "metadata": {},
   "outputs": [],
   "source": [
    "df_small_2022 = df_small[df_small['date'].dt.year == 2022].reset_index(drop=True)\n",
    "df_small_2023= df_small[df_small['date'].dt.year == 2023].reset_index(drop=True)"
   ]
  },
  {
   "cell_type": "code",
   "execution_count": 71,
   "metadata": {},
   "outputs": [],
   "source": [
    "df_small_2022.to_csv('../data/BTC-2022min.csv', index=False)\n",
    "df_small_2023.to_csv('../data/BTC-2023min.csv', index=False)"
   ]
  },
  {
   "cell_type": "code",
   "execution_count": 18,
   "metadata": {},
   "outputs": [
    {
     "data": {
      "text/plain": [
       "'2023-08-01 13:19:00'"
      ]
     },
     "execution_count": 18,
     "metadata": {},
     "output_type": "execute_result"
    }
   ],
   "source": [
    "import datetime\n",
    "\n"
   ]
  },
  {
   "cell_type": "code",
   "execution_count": 20,
   "metadata": {},
   "outputs": [
    {
     "data": {
      "text/plain": [
       "1690888740"
      ]
     },
     "execution_count": 20,
     "metadata": {},
     "output_type": "execute_result"
    }
   ],
   "source": [
    "unix_timestamp"
   ]
  },
  {
   "cell_type": "code",
   "execution_count": null,
   "metadata": {},
   "outputs": [],
   "source": []
  }
 ],
 "metadata": {
  "kernelspec": {
   "display_name": "kafka_streamer",
   "language": "python",
   "name": "python3"
  },
  "language_info": {
   "codemirror_mode": {
    "name": "ipython",
    "version": 3
   },
   "file_extension": ".py",
   "mimetype": "text/x-python",
   "name": "python",
   "nbconvert_exporter": "python",
   "pygments_lexer": "ipython3",
   "version": "3.10.6"
  }
 },
 "nbformat": 4,
 "nbformat_minor": 2
}
