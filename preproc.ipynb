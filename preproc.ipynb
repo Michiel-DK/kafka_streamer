{
 "cells": [
  {
   "cell_type": "code",
   "execution_count": 1,
   "metadata": {},
   "outputs": [
    {
     "name": "stderr",
     "output_type": "stream",
     "text": [
      "Setting default log level to \"WARN\".\n",
      "To adjust logging level use sc.setLogLevel(newLevel). For SparkR, use setLogLevel(newLevel).\n",
      "24/09/23 18:10:36 WARN NativeCodeLoader: Unable to load native-hadoop library for your platform... using builtin-java classes where applicable\n",
      "24/09/23 18:10:37 WARN Utils: Service 'SparkUI' could not bind on port 4040. Attempting port 4041.\n"
     ]
    }
   ],
   "source": [
    "from pyspark.sql import SparkSession\n",
    "from pyspark.sql.types import StructType, StructField, StringType, DoubleType, LongType, TimestampType\n",
    "from pyspark.sql.functions import col, lag, from_unixtime, round\n",
    "from pyspark.sql.window import Window\n",
    "\n",
    "# Step 1: Create Spark session\n",
    "spark = SparkSession.builder \\\n",
    "    .appName(\"CryptoDataProcessing\") \\\n",
    "    .getOrCreate()\n",
    "\n",
    "# Step 2: Define the schema\n",
    "schema = StructType([\n",
    "    StructField(\"price\", DoubleType(), True),\n",
    "    StructField(\"volume_24h\", DoubleType(), True),\n",
    "    StructField(\"volume_24h_change_24h\", DoubleType(), True),\n",
    "    StructField(\"market_cap\", LongType(), True),\n",
    "    StructField(\"market_cap_change_24h\", DoubleType(), True),\n",
    "    StructField(\"percent_change_15m\", DoubleType(), True),\n",
    "    StructField(\"percent_change_30m\", DoubleType(), True),\n",
    "    StructField(\"percent_change_1h\", DoubleType(), True),\n",
    "    StructField(\"percent_change_6h\", DoubleType(), True),\n",
    "    StructField(\"percent_change_12h\", DoubleType(), True),\n",
    "    StructField(\"percent_change_24h\", DoubleType(), True),\n",
    "    StructField(\"percent_change_7d\", DoubleType(), True),\n",
    "    StructField(\"percent_change_30d\", DoubleType(), True),\n",
    "    StructField(\"percent_change_1y\", DoubleType(), True),\n",
    "    StructField(\"symbol\", StringType(), True),\n",
    "    StructField(\"beta_value\", DoubleType(), True),\n",
    "    StructField(\"timestamp\", TimestampType(), True)\n",
    "])\n"
   ]
  },
  {
   "cell_type": "code",
   "execution_count": 12,
   "metadata": {},
   "outputs": [
    {
     "data": {
      "text/plain": [
       "['data/BTC-2017min.csv',\n",
       " 'data/BTC-2018min.csv',\n",
       " 'data/BTC-2019min.csv',\n",
       " 'data/BTC-2020min.csv',\n",
       " 'data/BTC-2021min.csv']"
      ]
     },
     "execution_count": 12,
     "metadata": {},
     "output_type": "execute_result"
    }
   ],
   "source": [
    "import os\n",
    "import re\n",
    "\n",
    "file_list = os.listdir('data')\n",
    "\n",
    "# Regular expression to match a year (four consecutive digits)\n",
    "year_pattern = re.compile(r'\\d{4}')\n",
    "\n",
    "# Filter files that contain a year in their names\n",
    "files_with_years = sorted(['data/' + file for file in file_list if year_pattern.search(file)])\n",
    "files_with_years"
   ]
  },
  {
   "cell_type": "code",
   "execution_count": 47,
   "metadata": {},
   "outputs": [
    {
     "name": "stderr",
     "output_type": "stream",
     "text": [
      "                                                                                \r"
     ]
    }
   ],
   "source": [
    "# Step 3: Load the CSV file into a DataFrame\n",
    "df = spark.read.csv(files_with_years, header=True, inferSchema=True)"
   ]
  },
  {
   "cell_type": "code",
   "execution_count": 48,
   "metadata": {},
   "outputs": [
    {
     "name": "stdout",
     "output_type": "stream",
     "text": [
      "+----------+-------------------+-------+--------+--------+--------+--------+----------+----------------+\n",
      "|      unix|               date| symbol|    open|    high|     low|   close|Volume BTC|      Volume USD|\n",
      "+----------+-------------------+-------+--------+--------+--------+--------+----------+----------------+\n",
      "|1514764740|2017-12-31 23:59:00|BTC/USD|13913.28|13913.28|13867.18| 13880.0|0.59174759|    8213.4565492|\n",
      "|1514764680|2017-12-31 23:58:00|BTC/USD|13913.26|13953.83|13884.69|13953.77|1.39878396|19518.3096575292|\n",
      "|1514764620|2017-12-31 23:57:00|BTC/USD|13908.73|13913.26|13874.99|13913.26|0.77501206|10782.9442939156|\n",
      "|1514764560|2017-12-31 23:56:00|BTC/USD| 13827.0|13908.69| 13827.0|13859.58|0.66645895|  9236.841134241|\n",
      "|1514764500|2017-12-31 23:55:00|BTC/USD|13825.05|13825.05|13825.05|13825.05| 0.0655014|    905.56013007|\n",
      "+----------+-------------------+-------+--------+--------+--------+--------+----------+----------------+\n",
      "only showing top 5 rows\n",
      "\n"
     ]
    }
   ],
   "source": [
    "df.show(5)"
   ]
  },
  {
   "cell_type": "code",
   "execution_count": 52,
   "metadata": {},
   "outputs": [
    {
     "name": "stderr",
     "output_type": "stream",
     "text": [
      "[Stage 75:=========================>                               (5 + 6) / 11]\r"
     ]
    },
    {
     "name": "stdout",
     "output_type": "stream",
     "text": [
      "+-------------------+------+-------------------+------------------+\n",
      "|timestamp          |price |volume_BTC         |volume_USD        |\n",
      "+-------------------+------+-------------------+------------------+\n",
      "|2017-01-01 01:05:00|966.37|15.69737633        |15169.2452640221  |\n",
      "|2017-01-01 01:10:00|966.58|0.43873245         |424.053961521     |\n",
      "|2017-01-01 01:15:00|965.55|6.6617703299999995 |6434.2622184592   |\n",
      "|2017-01-01 01:20:00|965.55|20.77338473        |20078.145180898802|\n",
      "|2017-01-01 01:25:00|964.87|0.67092309         |647.7043203818    |\n",
      "|2017-01-01 01:30:00|965.24|6.88               |6640.8512         |\n",
      "|2017-01-01 01:35:00|965.24|0.0                |0.0               |\n",
      "|2017-01-01 01:40:00|966.39|5.7117815          |5519.856963785    |\n",
      "|2017-01-01 01:45:00|966.38|10.38096456        |10032.1113757011  |\n",
      "|2017-01-01 01:50:00|966.97|34.87239491        |33706.5180215286  |\n",
      "|2017-01-01 01:55:00|966.97|0.154              |148.91338000000002|\n",
      "|2017-01-01 02:00:00|966.6 |0.24347781999999998|235.4161105288    |\n",
      "|2017-01-01 02:05:00|966.6 |0.31964467         |308.9669715753    |\n",
      "|2017-01-01 02:10:00|965.08|29.09810812        |28095.831308792003|\n",
      "|2017-01-01 02:15:00|962.54|100.0              |96347.3           |\n",
      "|2017-01-01 02:20:00|964.37|0.204              |196.83023         |\n",
      "|2017-01-01 02:25:00|963.95|1.1103384          |1069.5085448447999|\n",
      "|2017-01-01 02:30:00|962.88|0.01563298         |15.0526837824     |\n",
      "|2017-01-01 02:35:00|963.46|0.32582976         |313.9162393088    |\n",
      "|2017-01-01 02:40:00|964.05|8.086              |7795.3114         |\n",
      "+-------------------+------+-------------------+------------------+\n",
      "only showing top 20 rows\n",
      "\n"
     ]
    },
    {
     "name": "stderr",
     "output_type": "stream",
     "text": [
      "                                                                                \r"
     ]
    }
   ],
   "source": [
    "\n",
    "from pyspark.sql import SparkSession\n",
    "from pyspark.sql.types import StructType, StructField, StringType, DoubleType, LongType, TimestampType\n",
    "from pyspark.sql.functions import col, sum as _sum, last, window, from_unixtime\n",
    "\n",
    "# Step 3: Convert unix time to timestamp for resampling\n",
    "df = df.withColumn(\"timestamp\", from_unixtime(col(\"unix\")).cast(TimestampType())).orderBy(col(\"timestamp\"))\n",
    "\n",
    "# Step 4: Resample the DataFrame to 5-minute intervals\n",
    "df_resampled = df.groupBy(window(col(\"timestamp\"), \"5 minutes\").alias(\"time_window\")) \\\n",
    "    .agg(\n",
    "        last(\"close\").alias(\"price\"),          # Get the last close price within the 5-minute window\n",
    "        _sum(\"Volume BTC\").alias(\"volume_BTC\"), # Sum of Volume BTC for the 5-minute window\n",
    "        _sum(\"Volume USD\").alias(\"volume_USD\")  # Sum of Volume USD for the 5-minute window\n",
    "    )\n",
    "\n",
    "# Step 5: Select the desired columns and rename window to timestamp\n",
    "df_resampled = df_resampled.select(\n",
    "    col(\"time_window.end\").alias(\"timestamp\"),  # Use the end of the time window as the timestamp\n",
    "    col(\"price\"),\n",
    "    col(\"volume_BTC\"),\n",
    "    col(\"volume_USD\")\n",
    ")\n",
    "\n",
    "# Step 6: Show the resampled DataFrame\n",
    "df_resampled.orderBy(col(\"timestamp\")).show(truncate=False)"
   ]
  },
  {
   "cell_type": "code",
   "execution_count": 69,
   "metadata": {},
   "outputs": [],
   "source": [
    "window_spec = Window.orderBy(\"timestamp\")"
   ]
  },
  {
   "cell_type": "code",
   "execution_count": 70,
   "metadata": {},
   "outputs": [],
   "source": [
    "# Helper function to calculate percentage change\n",
    "def calculate_percentage_change(current, previous):\n",
    "    return (current - previous) / previous * 100"
   ]
  },
  {
   "cell_type": "code",
   "execution_count": 87,
   "metadata": {},
   "outputs": [],
   "source": [
    "df_transformed = df_resampled.select(\n",
    "    col(\"timestamp\"),\n",
    "    col(\"price\"),\n",
    "    col(\"Volume_USD\"),\n",
    "    # Calculate volume_24h_change_24h as the percentage change from the previous row\n",
    "    round((col(\"Volume_USD\") - lag(\"Volume_USD\", 1).over(window_spec)) / lag(\"Volume_USD\", 1).over(window_spec) * 100, 2)\n",
    "    .alias(\"volume_24h_change_24h\"),\n",
    "        # Calculate percentage change for different intervals (15m, 30m, 1h, 6h, 12h, 24h, 7d, 30d, 1y)\n",
    "    round(calculate_percentage_change(col(\"price\"), lag(\"price\", 3).over(window_spec)), 2).alias(\"percent_change_15m\"),  # Assuming 1m intervals\n",
    "    round(calculate_percentage_change(col(\"price\"), lag(\"price\", 6).over(window_spec)), 2).alias(\"percent_change_30m\"),\n",
    "    round(calculate_percentage_change(col(\"price\"), lag(\"price\", 12).over(window_spec)), 2).alias(\"percent_change_1h\"),\n",
    "    round(calculate_percentage_change(col(\"price\"), lag(\"price\", 72).over(window_spec)), 2).alias(\"percent_change_6h\"),   # 72 mins is approx. 6h\n",
    "    round(calculate_percentage_change(col(\"price\"), lag(\"price\", 144).over(window_spec)), 2).alias(\"percent_change_12h\"), # 144 mins is approx. 12h\n",
    "    round(calculate_percentage_change(col(\"price\"), lag(\"price\", 288).over(window_spec)), 2).alias(\"percent_change_24h\"), # 288 mins is approx. 24h\n",
    "    round(calculate_percentage_change(col(\"price\"), lag(\"price\", 2016).over(window_spec)), 2).alias(\"percent_change_7d\"), # 2016 mins is approx. 7 days\n",
    "    round(calculate_percentage_change(col(\"price\"), lag(\"price\", 8640).over(window_spec)), 2).alias(\"percent_change_30d\"),# 8640 mins is approx. 30 days\n",
    "    round(calculate_percentage_change(col(\"price\"), lag(\"price\", 105120).over(window_spec)), 2).alias(\"percent_change_1y\"),# 105120 mins is approx. 1 year\n",
    ")\n"
   ]
  },
  {
   "cell_type": "code",
   "execution_count": 88,
   "metadata": {},
   "outputs": [
    {
     "name": "stderr",
     "output_type": "stream",
     "text": [
      "24/09/23 18:45:32 WARN WindowExec: No Partition Defined for Window operation! Moving all data to a single partition, this can cause serious performance degradation.\n",
      "24/09/23 18:45:32 WARN WindowExec: No Partition Defined for Window operation! Moving all data to a single partition, this can cause serious performance degradation.\n",
      "24/09/23 18:45:32 WARN WindowExec: No Partition Defined for Window operation! Moving all data to a single partition, this can cause serious performance degradation.\n",
      "24/09/23 18:45:35 WARN WindowExec: No Partition Defined for Window operation! Moving all data to a single partition, this can cause serious performance degradation.\n",
      "24/09/23 18:45:35 WARN WindowExec: No Partition Defined for Window operation! Moving all data to a single partition, this can cause serious performance degradation.\n"
     ]
    },
    {
     "name": "stdout",
     "output_type": "stream",
     "text": [
      "+-------------------+------+------------------+---------------------+------------------+------------------+-----------------+-----------------+------------------+------------------+-----------------+------------------+-----------------+\n",
      "|          timestamp| price|        Volume_USD|volume_24h_change_24h|percent_change_15m|percent_change_30m|percent_change_1h|percent_change_6h|percent_change_12h|percent_change_24h|percent_change_7d|percent_change_30d|percent_change_1y|\n",
      "+-------------------+------+------------------+---------------------+------------------+------------------+-----------------+-----------------+------------------+------------------+-----------------+------------------+-----------------+\n",
      "|2017-01-01 01:05:00|966.37|  15169.2452640221|                 NULL|              NULL|              NULL|             NULL|             NULL|              NULL|              NULL|             NULL|              NULL|             NULL|\n",
      "|2017-01-01 01:10:00|966.58|     424.053961521|                -97.2|              NULL|              NULL|             NULL|             NULL|              NULL|              NULL|             NULL|              NULL|             NULL|\n",
      "|2017-01-01 01:15:00|965.55|   6434.2622184592|              1417.32|              NULL|              NULL|             NULL|             NULL|              NULL|              NULL|             NULL|              NULL|             NULL|\n",
      "|2017-01-01 01:20:00|965.55|20078.145180898802|               212.05|             -0.08|              NULL|             NULL|             NULL|              NULL|              NULL|             NULL|              NULL|             NULL|\n",
      "|2017-01-01 01:25:00|964.87|    647.7043203818|               -96.77|             -0.18|              NULL|             NULL|             NULL|              NULL|              NULL|             NULL|              NULL|             NULL|\n",
      "|2017-01-01 01:30:00|965.24|         6640.8512|               925.29|             -0.03|              NULL|             NULL|             NULL|              NULL|              NULL|             NULL|              NULL|             NULL|\n",
      "|2017-01-01 01:35:00|965.24|               0.0|               -100.0|             -0.03|             -0.12|             NULL|             NULL|              NULL|              NULL|             NULL|              NULL|             NULL|\n",
      "|2017-01-01 01:40:00|966.39|    5519.856963785|                 NULL|              0.16|             -0.02|             NULL|             NULL|              NULL|              NULL|             NULL|              NULL|             NULL|\n",
      "|2017-01-01 01:45:00|966.38|  10032.1113757011|                81.75|              0.12|              0.09|             NULL|             NULL|              NULL|              NULL|             NULL|              NULL|             NULL|\n",
      "|2017-01-01 01:50:00|966.97|  33706.5180215286|               235.99|              0.18|              0.15|             NULL|             NULL|              NULL|              NULL|             NULL|              NULL|             NULL|\n",
      "|2017-01-01 01:55:00|966.97|148.91338000000002|               -99.56|              0.06|              0.22|             NULL|             NULL|              NULL|              NULL|             NULL|              NULL|             NULL|\n",
      "|2017-01-01 02:00:00| 966.6|    235.4161105288|                58.09|              0.02|              0.14|             NULL|             NULL|              NULL|              NULL|             NULL|              NULL|             NULL|\n",
      "|2017-01-01 02:05:00| 966.6|    308.9669715753|                31.24|             -0.04|              0.14|             0.02|             NULL|              NULL|              NULL|             NULL|              NULL|             NULL|\n",
      "|2017-01-01 02:10:00|965.08|28095.831308792003|              8993.47|              -0.2|             -0.14|            -0.16|             NULL|              NULL|              NULL|             NULL|              NULL|             NULL|\n",
      "|2017-01-01 02:15:00|962.54|           96347.3|               242.92|             -0.42|              -0.4|            -0.31|             NULL|              NULL|              NULL|             NULL|              NULL|             NULL|\n",
      "|2017-01-01 02:20:00|964.37|         196.83023|                -99.8|             -0.23|             -0.27|            -0.12|             NULL|              NULL|              NULL|             NULL|              NULL|             NULL|\n",
      "|2017-01-01 02:25:00|963.95|1069.5085448447999|               443.37|             -0.12|             -0.31|             -0.1|             NULL|              NULL|              NULL|             NULL|              NULL|             NULL|\n",
      "|2017-01-01 02:30:00|962.88|     15.0526837824|               -98.59|              0.04|             -0.38|            -0.24|             NULL|              NULL|              NULL|             NULL|              NULL|             NULL|\n",
      "|2017-01-01 02:35:00|963.46|    313.9162393088|              1985.45|             -0.09|             -0.32|            -0.18|             NULL|              NULL|              NULL|             NULL|              NULL|             NULL|\n",
      "|2017-01-01 02:40:00|964.05|         7795.3114|              2383.25|              0.01|             -0.11|            -0.24|             NULL|              NULL|              NULL|             NULL|              NULL|             NULL|\n",
      "|2017-01-01 02:45:00|963.07| 4212.229406720001|               -45.96|              0.02|              0.06|            -0.34|             NULL|              NULL|              NULL|             NULL|              NULL|             NULL|\n",
      "|2017-01-01 02:50:00| 963.5|           231.251|               -94.51|               0.0|             -0.09|            -0.36|             NULL|              NULL|              NULL|             NULL|              NULL|             NULL|\n",
      "|2017-01-01 02:55:00|963.66|         1117.7832|               383.36|             -0.04|             -0.03|            -0.34|             NULL|              NULL|              NULL|             NULL|              NULL|             NULL|\n",
      "|2017-01-01 03:00:00|963.87|3944.4586564799997|               252.88|              0.08|               0.1|            -0.28|             NULL|              NULL|              NULL|             NULL|              NULL|             NULL|\n",
      "|2017-01-01 03:05:00|964.35|      43.352315676|                -98.9|              0.09|              0.09|            -0.23|             NULL|              NULL|              NULL|             NULL|              NULL|             NULL|\n",
      "|2017-01-01 03:10:00| 964.5|       42.91124157|                -1.02|              0.09|              0.05|            -0.06|             NULL|              NULL|              NULL|             NULL|              NULL|             NULL|\n",
      "|2017-01-01 03:15:00|963.62|        13645.0412|             31698.29|             -0.03|              0.06|             0.11|             NULL|              NULL|              NULL|             NULL|              NULL|             NULL|\n",
      "|2017-01-01 03:20:00|963.62|               0.0|               -100.0|             -0.08|              0.01|            -0.08|             NULL|              NULL|              NULL|             NULL|              NULL|             NULL|\n",
      "|2017-01-01 03:25:00|964.73|   5439.2820396856|                 NULL|              0.02|              0.11|             0.08|             NULL|              NULL|              NULL|             NULL|              NULL|             NULL|\n",
      "|2017-01-01 03:30:00|965.07|  19294.0384750482|               254.72|              0.15|              0.12|             0.23|             NULL|              NULL|              NULL|             NULL|              NULL|             NULL|\n",
      "|2017-01-01 03:35:00| 964.8|   3851.1464486844|               -80.04|              0.12|              0.05|             0.14|             NULL|              NULL|              NULL|             NULL|              NULL|             NULL|\n",
      "|2017-01-01 03:40:00|963.76|  28116.6191537944|               630.08|              -0.1|             -0.08|            -0.03|             NULL|              NULL|              NULL|             NULL|              NULL|             NULL|\n",
      "|2017-01-01 03:45:00|961.99|   7134.9439360944|               -74.62|             -0.32|             -0.17|            -0.11|             NULL|              NULL|              NULL|             NULL|              NULL|             NULL|\n",
      "|2017-01-01 03:50:00| 963.6| 9.636000000000001|               -99.86|             -0.12|               0.0|             0.01|             NULL|              NULL|              NULL|             NULL|              NULL|             NULL|\n",
      "|2017-01-01 03:55:00| 963.3|         210.00602|              2079.39|             -0.05|             -0.15|            -0.04|             NULL|              NULL|              NULL|             NULL|              NULL|             NULL|\n",
      "|2017-01-01 04:00:00|963.97|  13092.2319666306|              6134.22|              0.21|             -0.11|             0.01|             NULL|              NULL|              NULL|             NULL|              NULL|             NULL|\n",
      "|2017-01-01 04:05:00|964.47|2165.2979832509004|               -83.46|              0.09|             -0.03|             0.01|             NULL|              NULL|              NULL|             NULL|              NULL|             NULL|\n",
      "|2017-01-01 04:10:00| 963.9|         336.42836|               -84.46|              0.06|              0.01|            -0.06|             NULL|              NULL|              NULL|             NULL|              NULL|             NULL|\n",
      "|2017-01-01 04:15:00|963.81|2260.3969827461997|               571.88|             -0.02|              0.19|             0.02|             NULL|              NULL|              NULL|             NULL|              NULL|             NULL|\n",
      "|2017-01-01 04:20:00|963.99| 919.8186883648001|               -59.31|             -0.05|              0.04|             0.04|             NULL|              NULL|              NULL|             NULL|              NULL|             NULL|\n",
      "+-------------------+------+------------------+---------------------+------------------+------------------+-----------------+-----------------+------------------+------------------+-----------------+------------------+-----------------+\n",
      "only showing top 40 rows\n",
      "\n"
     ]
    },
    {
     "name": "stderr",
     "output_type": "stream",
     "text": [
      "24/09/23 18:45:35 WARN WindowExec: No Partition Defined for Window operation! Moving all data to a single partition, this can cause serious performance degradation.\n",
      "24/09/23 18:45:35 WARN WindowExec: No Partition Defined for Window operation! Moving all data to a single partition, this can cause serious performance degradation.\n",
      "24/09/23 18:45:35 WARN WindowExec: No Partition Defined for Window operation! Moving all data to a single partition, this can cause serious performance degradation.\n",
      "24/09/23 18:45:35 WARN WindowExec: No Partition Defined for Window operation! Moving all data to a single partition, this can cause serious performance degradation.\n",
      "                                                                                \r"
     ]
    }
   ],
   "source": [
    "df_transformed.show((40))"
   ]
  },
  {
   "cell_type": "code",
   "execution_count": 75,
   "metadata": {},
   "outputs": [
    {
     "ename": "AnalysisException",
     "evalue": "[UNRESOLVED_COLUMN.WITH_SUGGESTION] A column or function parameter with name `symbol` cannot be resolved. Did you mean one of the following? [`price`, `timestamp`, `volume_BTC`, `volume_USD`].;\n'Project [price#1660, Volume_USD#1664, round((((Volume_USD#1664 - lag(Volume_USD#1664, -1, null) windowspecdefinition(timestamp#1670 ASC NULLS FIRST, specifiedwindowframe(RowFrame, -1, -1))) / lag(Volume_USD#1664, -1, null) windowspecdefinition(timestamp#1670 ASC NULLS FIRST, specifiedwindowframe(RowFrame, -1, -1))) * cast(100 as double)), 2) AS volume_24h_change_24h#1862, round((((price#1660 - lag(price#1660, -3, null) windowspecdefinition(timestamp#1670 ASC NULLS FIRST, specifiedwindowframe(RowFrame, -3, -3))) / lag(price#1660, -3, null) windowspecdefinition(timestamp#1670 ASC NULLS FIRST, specifiedwindowframe(RowFrame, -3, -3))) * cast(100 as double)), 2) AS percent_change_15m#1863, round((((price#1660 - lag(price#1660, -6, null) windowspecdefinition(timestamp#1670 ASC NULLS FIRST, specifiedwindowframe(RowFrame, -6, -6))) / lag(price#1660, -6, null) windowspecdefinition(timestamp#1670 ASC NULLS FIRST, specifiedwindowframe(RowFrame, -6, -6))) * cast(100 as double)), 2) AS percent_change_30m#1864, round((((price#1660 - lag(price#1660, -12, null) windowspecdefinition(timestamp#1670 ASC NULLS FIRST, specifiedwindowframe(RowFrame, -12, -12))) / lag(price#1660, -12, null) windowspecdefinition(timestamp#1670 ASC NULLS FIRST, specifiedwindowframe(RowFrame, -12, -12))) * cast(100 as double)), 2) AS percent_change_1h#1865, round((((price#1660 - lag(price#1660, -72, null) windowspecdefinition(timestamp#1670 ASC NULLS FIRST, specifiedwindowframe(RowFrame, -72, -72))) / lag(price#1660, -72, null) windowspecdefinition(timestamp#1670 ASC NULLS FIRST, specifiedwindowframe(RowFrame, -72, -72))) * cast(100 as double)), 2) AS percent_change_6h#1866, round((((price#1660 - lag(price#1660, -144, null) windowspecdefinition(timestamp#1670 ASC NULLS FIRST, specifiedwindowframe(RowFrame, -144, -144))) / lag(price#1660, -144, null) windowspecdefinition(timestamp#1670 ASC NULLS FIRST, specifiedwindowframe(RowFrame, -144, -144))) * cast(100 as double)), 2) AS percent_change_12h#1867, round((((price#1660 - lag(price#1660, -288, null) windowspecdefinition(timestamp#1670 ASC NULLS FIRST, specifiedwindowframe(RowFrame, -288, -288))) / lag(price#1660, -288, null) windowspecdefinition(timestamp#1670 ASC NULLS FIRST, specifiedwindowframe(RowFrame, -288, -288))) * cast(100 as double)), 2) AS percent_change_24h#1868, round((((price#1660 - lag(price#1660, -2016, null) windowspecdefinition(timestamp#1670 ASC NULLS FIRST, specifiedwindowframe(RowFrame, -2016, -2016))) / lag(price#1660, -2016, null) windowspecdefinition(timestamp#1670 ASC NULLS FIRST, specifiedwindowframe(RowFrame, -2016, -2016))) * cast(100 as double)), 2) AS percent_change_7d#1869, round((((price#1660 - lag(price#1660, -8640, null) windowspecdefinition(timestamp#1670 ASC NULLS FIRST, specifiedwindowframe(RowFrame, -8640, -8640))) / lag(price#1660, -8640, null) windowspecdefinition(timestamp#1670 ASC NULLS FIRST, specifiedwindowframe(RowFrame, -8640, -8640))) * cast(100 as double)), 2) AS percent_change_30d#1870, round((((price#1660 - lag(price#1660, -105120, null) windowspecdefinition(timestamp#1670 ASC NULLS FIRST, specifiedwindowframe(RowFrame, -105120, -105120))) / lag(price#1660, -105120, null) windowspecdefinition(timestamp#1670 ASC NULLS FIRST, specifiedwindowframe(RowFrame, -105120, -105120))) * cast(100 as double)), 2) AS percent_change_1y#1871, 'symbol, 'Volume USD AS beta_value#1872, from_unixtime('unix, yyyy-MM-dd HH:mm:ss, Some(Europe/Brussels)) AS timestamp#1873]\n+- Project [time_window#1648.end AS timestamp#1670, price#1660, volume_BTC#1662, volume_USD#1664]\n   +- Aggregate [window#1665], [window#1665 AS time_window#1648, last(close#1380, false) AS price#1660, sum(Volume BTC#1381) AS volume_BTC#1662, sum(Volume USD#1382) AS volume_USD#1664]\n      +- Project [named_struct(start, knownnullable(precisetimestampconversion(((precisetimestampconversion(timestamp#1636, TimestampType, LongType) - CASE WHEN (((precisetimestampconversion(timestamp#1636, TimestampType, LongType) - 0) % 300000000) < cast(0 as bigint)) THEN (((precisetimestampconversion(timestamp#1636, TimestampType, LongType) - 0) % 300000000) + 300000000) ELSE ((precisetimestampconversion(timestamp#1636, TimestampType, LongType) - 0) % 300000000) END) - 0), LongType, TimestampType)), end, knownnullable(precisetimestampconversion((((precisetimestampconversion(timestamp#1636, TimestampType, LongType) - CASE WHEN (((precisetimestampconversion(timestamp#1636, TimestampType, LongType) - 0) % 300000000) < cast(0 as bigint)) THEN (((precisetimestampconversion(timestamp#1636, TimestampType, LongType) - 0) % 300000000) + 300000000) ELSE ((precisetimestampconversion(timestamp#1636, TimestampType, LongType) - 0) % 300000000) END) - 0) + 300000000), LongType, TimestampType))) AS window#1665, unix#1374, date#1375, symbol#1376, open#1377, high#1378, low#1379, close#1380, Volume BTC#1381, Volume USD#1382, timestamp#1636]\n         +- Filter isnotnull(timestamp#1636)\n            +- Sort [timestamp#1636 ASC NULLS FIRST], true\n               +- Project [unix#1374, date#1375, symbol#1376, open#1377, high#1378, low#1379, close#1380, Volume BTC#1381, Volume USD#1382, cast(from_unixtime(cast(unix#1374 as bigint), yyyy-MM-dd HH:mm:ss, Some(Europe/Brussels)) as timestamp) AS timestamp#1636]\n                  +- Sort [timestamp#1555 ASC NULLS FIRST], true\n                     +- Project [unix#1374, date#1375, symbol#1376, open#1377, high#1378, low#1379, close#1380, Volume BTC#1381, Volume USD#1382, cast(from_unixtime(cast(unix#1374 as bigint), yyyy-MM-dd HH:mm:ss, Some(Europe/Brussels)) as timestamp) AS timestamp#1555]\n                        +- Project [unix#1374, date#1375, symbol#1376, open#1377, high#1378, low#1379, close#1380, Volume BTC#1381, Volume USD#1382, cast(from_unixtime(cast(unix#1374 as bigint), yyyy-MM-dd HH:mm:ss, Some(Europe/Brussels)) as timestamp) AS timestamp#1474]\n                           +- Sort [timestamp#1439 ASC NULLS FIRST], true\n                              +- Project [unix#1374, date#1375, symbol#1376, open#1377, high#1378, low#1379, close#1380, Volume BTC#1381, Volume USD#1382, cast(from_unixtime(cast(unix#1374 as bigint), yyyy-MM-dd HH:mm:ss, Some(Europe/Brussels)) as timestamp) AS timestamp#1439]\n                                 +- Relation [unix#1374,date#1375,symbol#1376,open#1377,high#1378,low#1379,close#1380,Volume BTC#1381,Volume USD#1382] csv\n",
     "output_type": "error",
     "traceback": [
      "\u001b[0;31m---------------------------------------------------------------------------\u001b[0m",
      "\u001b[0;31mAnalysisException\u001b[0m                         Traceback (most recent call last)",
      "Cell \u001b[0;32mIn[75], line 2\u001b[0m\n\u001b[1;32m      1\u001b[0m \u001b[38;5;66;03m# Step 5: Transform the DataFrame according to the schema\u001b[39;00m\n\u001b[0;32m----> 2\u001b[0m df_transformed \u001b[38;5;241m=\u001b[39m \u001b[43mdf_resampled\u001b[49m\u001b[38;5;241;43m.\u001b[39;49m\u001b[43mselect\u001b[49m\u001b[43m(\u001b[49m\n\u001b[1;32m      3\u001b[0m \u001b[43m    \u001b[49m\u001b[43mcol\u001b[49m\u001b[43m(\u001b[49m\u001b[38;5;124;43m\"\u001b[39;49m\u001b[38;5;124;43mprice\u001b[39;49m\u001b[38;5;124;43m\"\u001b[39;49m\u001b[43m)\u001b[49m\u001b[43m,\u001b[49m\n\u001b[1;32m      4\u001b[0m \u001b[43m    \u001b[49m\u001b[43mcol\u001b[49m\u001b[43m(\u001b[49m\u001b[38;5;124;43m\"\u001b[39;49m\u001b[38;5;124;43mVolume_USD\u001b[39;49m\u001b[38;5;124;43m\"\u001b[39;49m\u001b[43m)\u001b[49m\u001b[43m,\u001b[49m\n\u001b[1;32m      5\u001b[0m \u001b[43m    \u001b[49m\u001b[38;5;66;43;03m# Calculate volume_24h_change_24h as the percentage change from the previous row\u001b[39;49;00m\n\u001b[1;32m      6\u001b[0m \u001b[43m    \u001b[49m\u001b[38;5;28;43mround\u001b[39;49m\u001b[43m(\u001b[49m\u001b[43m(\u001b[49m\u001b[43mcol\u001b[49m\u001b[43m(\u001b[49m\u001b[38;5;124;43m\"\u001b[39;49m\u001b[38;5;124;43mVolume_USD\u001b[39;49m\u001b[38;5;124;43m\"\u001b[39;49m\u001b[43m)\u001b[49m\u001b[43m \u001b[49m\u001b[38;5;241;43m-\u001b[39;49m\u001b[43m \u001b[49m\u001b[43mlag\u001b[49m\u001b[43m(\u001b[49m\u001b[38;5;124;43m\"\u001b[39;49m\u001b[38;5;124;43mVolume_USD\u001b[39;49m\u001b[38;5;124;43m\"\u001b[39;49m\u001b[43m,\u001b[49m\u001b[43m \u001b[49m\u001b[38;5;241;43m1\u001b[39;49m\u001b[43m)\u001b[49m\u001b[38;5;241;43m.\u001b[39;49m\u001b[43mover\u001b[49m\u001b[43m(\u001b[49m\u001b[43mwindow_spec\u001b[49m\u001b[43m)\u001b[49m\u001b[43m)\u001b[49m\u001b[43m \u001b[49m\u001b[38;5;241;43m/\u001b[39;49m\u001b[43m \u001b[49m\u001b[43mlag\u001b[49m\u001b[43m(\u001b[49m\u001b[38;5;124;43m\"\u001b[39;49m\u001b[38;5;124;43mVolume_USD\u001b[39;49m\u001b[38;5;124;43m\"\u001b[39;49m\u001b[43m,\u001b[49m\u001b[43m \u001b[49m\u001b[38;5;241;43m1\u001b[39;49m\u001b[43m)\u001b[49m\u001b[38;5;241;43m.\u001b[39;49m\u001b[43mover\u001b[49m\u001b[43m(\u001b[49m\u001b[43mwindow_spec\u001b[49m\u001b[43m)\u001b[49m\u001b[43m \u001b[49m\u001b[38;5;241;43m*\u001b[39;49m\u001b[43m \u001b[49m\u001b[38;5;241;43m100\u001b[39;49m\u001b[43m,\u001b[49m\u001b[43m \u001b[49m\u001b[38;5;241;43m2\u001b[39;49m\u001b[43m)\u001b[49m\n\u001b[1;32m      7\u001b[0m \u001b[43m    \u001b[49m\u001b[38;5;241;43m.\u001b[39;49m\u001b[43malias\u001b[49m\u001b[43m(\u001b[49m\u001b[38;5;124;43m\"\u001b[39;49m\u001b[38;5;124;43mvolume_24h_change_24h\u001b[39;49m\u001b[38;5;124;43m\"\u001b[39;49m\u001b[43m)\u001b[49m\u001b[43m,\u001b[49m\n\u001b[1;32m      8\u001b[0m \n\u001b[1;32m      9\u001b[0m \u001b[43m    \u001b[49m\u001b[38;5;66;43;03m# Calculate percentage change for different intervals (15m, 30m, 1h, 6h, 12h, 24h, 7d, 30d, 1y)\u001b[39;49;00m\n\u001b[1;32m     10\u001b[0m \u001b[43m    \u001b[49m\u001b[38;5;28;43mround\u001b[39;49m\u001b[43m(\u001b[49m\u001b[43mcalculate_percentage_change\u001b[49m\u001b[43m(\u001b[49m\u001b[43mcol\u001b[49m\u001b[43m(\u001b[49m\u001b[38;5;124;43m\"\u001b[39;49m\u001b[38;5;124;43mprice\u001b[39;49m\u001b[38;5;124;43m\"\u001b[39;49m\u001b[43m)\u001b[49m\u001b[43m,\u001b[49m\u001b[43m \u001b[49m\u001b[43mlag\u001b[49m\u001b[43m(\u001b[49m\u001b[38;5;124;43m\"\u001b[39;49m\u001b[38;5;124;43mprice\u001b[39;49m\u001b[38;5;124;43m\"\u001b[39;49m\u001b[43m,\u001b[49m\u001b[43m \u001b[49m\u001b[38;5;241;43m3\u001b[39;49m\u001b[43m)\u001b[49m\u001b[38;5;241;43m.\u001b[39;49m\u001b[43mover\u001b[49m\u001b[43m(\u001b[49m\u001b[43mwindow_spec\u001b[49m\u001b[43m)\u001b[49m\u001b[43m)\u001b[49m\u001b[43m,\u001b[49m\u001b[43m \u001b[49m\u001b[38;5;241;43m2\u001b[39;49m\u001b[43m)\u001b[49m\u001b[38;5;241;43m.\u001b[39;49m\u001b[43malias\u001b[49m\u001b[43m(\u001b[49m\u001b[38;5;124;43m\"\u001b[39;49m\u001b[38;5;124;43mpercent_change_15m\u001b[39;49m\u001b[38;5;124;43m\"\u001b[39;49m\u001b[43m)\u001b[49m\u001b[43m,\u001b[49m\u001b[43m  \u001b[49m\u001b[38;5;66;43;03m# Assuming 1m intervals\u001b[39;49;00m\n\u001b[1;32m     11\u001b[0m \u001b[43m    \u001b[49m\u001b[38;5;28;43mround\u001b[39;49m\u001b[43m(\u001b[49m\u001b[43mcalculate_percentage_change\u001b[49m\u001b[43m(\u001b[49m\u001b[43mcol\u001b[49m\u001b[43m(\u001b[49m\u001b[38;5;124;43m\"\u001b[39;49m\u001b[38;5;124;43mprice\u001b[39;49m\u001b[38;5;124;43m\"\u001b[39;49m\u001b[43m)\u001b[49m\u001b[43m,\u001b[49m\u001b[43m \u001b[49m\u001b[43mlag\u001b[49m\u001b[43m(\u001b[49m\u001b[38;5;124;43m\"\u001b[39;49m\u001b[38;5;124;43mprice\u001b[39;49m\u001b[38;5;124;43m\"\u001b[39;49m\u001b[43m,\u001b[49m\u001b[43m \u001b[49m\u001b[38;5;241;43m6\u001b[39;49m\u001b[43m)\u001b[49m\u001b[38;5;241;43m.\u001b[39;49m\u001b[43mover\u001b[49m\u001b[43m(\u001b[49m\u001b[43mwindow_spec\u001b[49m\u001b[43m)\u001b[49m\u001b[43m)\u001b[49m\u001b[43m,\u001b[49m\u001b[43m \u001b[49m\u001b[38;5;241;43m2\u001b[39;49m\u001b[43m)\u001b[49m\u001b[38;5;241;43m.\u001b[39;49m\u001b[43malias\u001b[49m\u001b[43m(\u001b[49m\u001b[38;5;124;43m\"\u001b[39;49m\u001b[38;5;124;43mpercent_change_30m\u001b[39;49m\u001b[38;5;124;43m\"\u001b[39;49m\u001b[43m)\u001b[49m\u001b[43m,\u001b[49m\n\u001b[1;32m     12\u001b[0m \u001b[43m    \u001b[49m\u001b[38;5;28;43mround\u001b[39;49m\u001b[43m(\u001b[49m\u001b[43mcalculate_percentage_change\u001b[49m\u001b[43m(\u001b[49m\u001b[43mcol\u001b[49m\u001b[43m(\u001b[49m\u001b[38;5;124;43m\"\u001b[39;49m\u001b[38;5;124;43mprice\u001b[39;49m\u001b[38;5;124;43m\"\u001b[39;49m\u001b[43m)\u001b[49m\u001b[43m,\u001b[49m\u001b[43m \u001b[49m\u001b[43mlag\u001b[49m\u001b[43m(\u001b[49m\u001b[38;5;124;43m\"\u001b[39;49m\u001b[38;5;124;43mprice\u001b[39;49m\u001b[38;5;124;43m\"\u001b[39;49m\u001b[43m,\u001b[49m\u001b[43m \u001b[49m\u001b[38;5;241;43m12\u001b[39;49m\u001b[43m)\u001b[49m\u001b[38;5;241;43m.\u001b[39;49m\u001b[43mover\u001b[49m\u001b[43m(\u001b[49m\u001b[43mwindow_spec\u001b[49m\u001b[43m)\u001b[49m\u001b[43m)\u001b[49m\u001b[43m,\u001b[49m\u001b[43m \u001b[49m\u001b[38;5;241;43m2\u001b[39;49m\u001b[43m)\u001b[49m\u001b[38;5;241;43m.\u001b[39;49m\u001b[43malias\u001b[49m\u001b[43m(\u001b[49m\u001b[38;5;124;43m\"\u001b[39;49m\u001b[38;5;124;43mpercent_change_1h\u001b[39;49m\u001b[38;5;124;43m\"\u001b[39;49m\u001b[43m)\u001b[49m\u001b[43m,\u001b[49m\n\u001b[1;32m     13\u001b[0m \u001b[43m    \u001b[49m\u001b[38;5;28;43mround\u001b[39;49m\u001b[43m(\u001b[49m\u001b[43mcalculate_percentage_change\u001b[49m\u001b[43m(\u001b[49m\u001b[43mcol\u001b[49m\u001b[43m(\u001b[49m\u001b[38;5;124;43m\"\u001b[39;49m\u001b[38;5;124;43mprice\u001b[39;49m\u001b[38;5;124;43m\"\u001b[39;49m\u001b[43m)\u001b[49m\u001b[43m,\u001b[49m\u001b[43m \u001b[49m\u001b[43mlag\u001b[49m\u001b[43m(\u001b[49m\u001b[38;5;124;43m\"\u001b[39;49m\u001b[38;5;124;43mprice\u001b[39;49m\u001b[38;5;124;43m\"\u001b[39;49m\u001b[43m,\u001b[49m\u001b[43m \u001b[49m\u001b[38;5;241;43m72\u001b[39;49m\u001b[43m)\u001b[49m\u001b[38;5;241;43m.\u001b[39;49m\u001b[43mover\u001b[49m\u001b[43m(\u001b[49m\u001b[43mwindow_spec\u001b[49m\u001b[43m)\u001b[49m\u001b[43m)\u001b[49m\u001b[43m,\u001b[49m\u001b[43m \u001b[49m\u001b[38;5;241;43m2\u001b[39;49m\u001b[43m)\u001b[49m\u001b[38;5;241;43m.\u001b[39;49m\u001b[43malias\u001b[49m\u001b[43m(\u001b[49m\u001b[38;5;124;43m\"\u001b[39;49m\u001b[38;5;124;43mpercent_change_6h\u001b[39;49m\u001b[38;5;124;43m\"\u001b[39;49m\u001b[43m)\u001b[49m\u001b[43m,\u001b[49m\u001b[43m   \u001b[49m\u001b[38;5;66;43;03m# 72 mins is approx. 6h\u001b[39;49;00m\n\u001b[1;32m     14\u001b[0m \u001b[43m    \u001b[49m\u001b[38;5;28;43mround\u001b[39;49m\u001b[43m(\u001b[49m\u001b[43mcalculate_percentage_change\u001b[49m\u001b[43m(\u001b[49m\u001b[43mcol\u001b[49m\u001b[43m(\u001b[49m\u001b[38;5;124;43m\"\u001b[39;49m\u001b[38;5;124;43mprice\u001b[39;49m\u001b[38;5;124;43m\"\u001b[39;49m\u001b[43m)\u001b[49m\u001b[43m,\u001b[49m\u001b[43m \u001b[49m\u001b[43mlag\u001b[49m\u001b[43m(\u001b[49m\u001b[38;5;124;43m\"\u001b[39;49m\u001b[38;5;124;43mprice\u001b[39;49m\u001b[38;5;124;43m\"\u001b[39;49m\u001b[43m,\u001b[49m\u001b[43m \u001b[49m\u001b[38;5;241;43m144\u001b[39;49m\u001b[43m)\u001b[49m\u001b[38;5;241;43m.\u001b[39;49m\u001b[43mover\u001b[49m\u001b[43m(\u001b[49m\u001b[43mwindow_spec\u001b[49m\u001b[43m)\u001b[49m\u001b[43m)\u001b[49m\u001b[43m,\u001b[49m\u001b[43m \u001b[49m\u001b[38;5;241;43m2\u001b[39;49m\u001b[43m)\u001b[49m\u001b[38;5;241;43m.\u001b[39;49m\u001b[43malias\u001b[49m\u001b[43m(\u001b[49m\u001b[38;5;124;43m\"\u001b[39;49m\u001b[38;5;124;43mpercent_change_12h\u001b[39;49m\u001b[38;5;124;43m\"\u001b[39;49m\u001b[43m)\u001b[49m\u001b[43m,\u001b[49m\u001b[43m \u001b[49m\u001b[38;5;66;43;03m# 144 mins is approx. 12h\u001b[39;49;00m\n\u001b[1;32m     15\u001b[0m \u001b[43m    \u001b[49m\u001b[38;5;28;43mround\u001b[39;49m\u001b[43m(\u001b[49m\u001b[43mcalculate_percentage_change\u001b[49m\u001b[43m(\u001b[49m\u001b[43mcol\u001b[49m\u001b[43m(\u001b[49m\u001b[38;5;124;43m\"\u001b[39;49m\u001b[38;5;124;43mprice\u001b[39;49m\u001b[38;5;124;43m\"\u001b[39;49m\u001b[43m)\u001b[49m\u001b[43m,\u001b[49m\u001b[43m \u001b[49m\u001b[43mlag\u001b[49m\u001b[43m(\u001b[49m\u001b[38;5;124;43m\"\u001b[39;49m\u001b[38;5;124;43mprice\u001b[39;49m\u001b[38;5;124;43m\"\u001b[39;49m\u001b[43m,\u001b[49m\u001b[43m \u001b[49m\u001b[38;5;241;43m288\u001b[39;49m\u001b[43m)\u001b[49m\u001b[38;5;241;43m.\u001b[39;49m\u001b[43mover\u001b[49m\u001b[43m(\u001b[49m\u001b[43mwindow_spec\u001b[49m\u001b[43m)\u001b[49m\u001b[43m)\u001b[49m\u001b[43m,\u001b[49m\u001b[43m \u001b[49m\u001b[38;5;241;43m2\u001b[39;49m\u001b[43m)\u001b[49m\u001b[38;5;241;43m.\u001b[39;49m\u001b[43malias\u001b[49m\u001b[43m(\u001b[49m\u001b[38;5;124;43m\"\u001b[39;49m\u001b[38;5;124;43mpercent_change_24h\u001b[39;49m\u001b[38;5;124;43m\"\u001b[39;49m\u001b[43m)\u001b[49m\u001b[43m,\u001b[49m\u001b[43m \u001b[49m\u001b[38;5;66;43;03m# 288 mins is approx. 24h\u001b[39;49;00m\n\u001b[1;32m     16\u001b[0m \u001b[43m    \u001b[49m\u001b[38;5;28;43mround\u001b[39;49m\u001b[43m(\u001b[49m\u001b[43mcalculate_percentage_change\u001b[49m\u001b[43m(\u001b[49m\u001b[43mcol\u001b[49m\u001b[43m(\u001b[49m\u001b[38;5;124;43m\"\u001b[39;49m\u001b[38;5;124;43mprice\u001b[39;49m\u001b[38;5;124;43m\"\u001b[39;49m\u001b[43m)\u001b[49m\u001b[43m,\u001b[49m\u001b[43m \u001b[49m\u001b[43mlag\u001b[49m\u001b[43m(\u001b[49m\u001b[38;5;124;43m\"\u001b[39;49m\u001b[38;5;124;43mprice\u001b[39;49m\u001b[38;5;124;43m\"\u001b[39;49m\u001b[43m,\u001b[49m\u001b[43m \u001b[49m\u001b[38;5;241;43m2016\u001b[39;49m\u001b[43m)\u001b[49m\u001b[38;5;241;43m.\u001b[39;49m\u001b[43mover\u001b[49m\u001b[43m(\u001b[49m\u001b[43mwindow_spec\u001b[49m\u001b[43m)\u001b[49m\u001b[43m)\u001b[49m\u001b[43m,\u001b[49m\u001b[43m \u001b[49m\u001b[38;5;241;43m2\u001b[39;49m\u001b[43m)\u001b[49m\u001b[38;5;241;43m.\u001b[39;49m\u001b[43malias\u001b[49m\u001b[43m(\u001b[49m\u001b[38;5;124;43m\"\u001b[39;49m\u001b[38;5;124;43mpercent_change_7d\u001b[39;49m\u001b[38;5;124;43m\"\u001b[39;49m\u001b[43m)\u001b[49m\u001b[43m,\u001b[49m\u001b[43m \u001b[49m\u001b[38;5;66;43;03m# 2016 mins is approx. 7 days\u001b[39;49;00m\n\u001b[1;32m     17\u001b[0m \u001b[43m    \u001b[49m\u001b[38;5;28;43mround\u001b[39;49m\u001b[43m(\u001b[49m\u001b[43mcalculate_percentage_change\u001b[49m\u001b[43m(\u001b[49m\u001b[43mcol\u001b[49m\u001b[43m(\u001b[49m\u001b[38;5;124;43m\"\u001b[39;49m\u001b[38;5;124;43mprice\u001b[39;49m\u001b[38;5;124;43m\"\u001b[39;49m\u001b[43m)\u001b[49m\u001b[43m,\u001b[49m\u001b[43m \u001b[49m\u001b[43mlag\u001b[49m\u001b[43m(\u001b[49m\u001b[38;5;124;43m\"\u001b[39;49m\u001b[38;5;124;43mprice\u001b[39;49m\u001b[38;5;124;43m\"\u001b[39;49m\u001b[43m,\u001b[49m\u001b[43m \u001b[49m\u001b[38;5;241;43m8640\u001b[39;49m\u001b[43m)\u001b[49m\u001b[38;5;241;43m.\u001b[39;49m\u001b[43mover\u001b[49m\u001b[43m(\u001b[49m\u001b[43mwindow_spec\u001b[49m\u001b[43m)\u001b[49m\u001b[43m)\u001b[49m\u001b[43m,\u001b[49m\u001b[43m \u001b[49m\u001b[38;5;241;43m2\u001b[39;49m\u001b[43m)\u001b[49m\u001b[38;5;241;43m.\u001b[39;49m\u001b[43malias\u001b[49m\u001b[43m(\u001b[49m\u001b[38;5;124;43m\"\u001b[39;49m\u001b[38;5;124;43mpercent_change_30d\u001b[39;49m\u001b[38;5;124;43m\"\u001b[39;49m\u001b[43m)\u001b[49m\u001b[43m,\u001b[49m\u001b[38;5;66;43;03m# 8640 mins is approx. 30 days\u001b[39;49;00m\n\u001b[1;32m     18\u001b[0m \u001b[43m    \u001b[49m\u001b[38;5;28;43mround\u001b[39;49m\u001b[43m(\u001b[49m\u001b[43mcalculate_percentage_change\u001b[49m\u001b[43m(\u001b[49m\u001b[43mcol\u001b[49m\u001b[43m(\u001b[49m\u001b[38;5;124;43m\"\u001b[39;49m\u001b[38;5;124;43mprice\u001b[39;49m\u001b[38;5;124;43m\"\u001b[39;49m\u001b[43m)\u001b[49m\u001b[43m,\u001b[49m\u001b[43m \u001b[49m\u001b[43mlag\u001b[49m\u001b[43m(\u001b[49m\u001b[38;5;124;43m\"\u001b[39;49m\u001b[38;5;124;43mprice\u001b[39;49m\u001b[38;5;124;43m\"\u001b[39;49m\u001b[43m,\u001b[49m\u001b[43m \u001b[49m\u001b[38;5;241;43m105120\u001b[39;49m\u001b[43m)\u001b[49m\u001b[38;5;241;43m.\u001b[39;49m\u001b[43mover\u001b[49m\u001b[43m(\u001b[49m\u001b[43mwindow_spec\u001b[49m\u001b[43m)\u001b[49m\u001b[43m)\u001b[49m\u001b[43m,\u001b[49m\u001b[43m \u001b[49m\u001b[38;5;241;43m2\u001b[39;49m\u001b[43m)\u001b[49m\u001b[38;5;241;43m.\u001b[39;49m\u001b[43malias\u001b[49m\u001b[43m(\u001b[49m\u001b[38;5;124;43m\"\u001b[39;49m\u001b[38;5;124;43mpercent_change_1y\u001b[39;49m\u001b[38;5;124;43m\"\u001b[39;49m\u001b[43m)\u001b[49m\u001b[43m,\u001b[49m\u001b[38;5;66;43;03m# 105120 mins is approx. 1 year\u001b[39;49;00m\n\u001b[1;32m     19\u001b[0m \u001b[43m    \u001b[49m\n\u001b[1;32m     20\u001b[0m \u001b[43m    \u001b[49m\u001b[38;5;66;43;03m# Map the `symbol` from CSV\u001b[39;49;00m\n\u001b[1;32m     21\u001b[0m \u001b[43m    \u001b[49m\u001b[43mcol\u001b[49m\u001b[43m(\u001b[49m\u001b[38;5;124;43m\"\u001b[39;49m\u001b[38;5;124;43msymbol\u001b[39;49m\u001b[38;5;124;43m\"\u001b[39;49m\u001b[43m)\u001b[49m\u001b[43m,\u001b[49m\n\u001b[1;32m     22\u001b[0m \u001b[43m    \u001b[49m\n\u001b[1;32m     23\u001b[0m \u001b[43m    \u001b[49m\u001b[38;5;66;43;03m# Placeholder for beta_value\u001b[39;49;00m\n\u001b[1;32m     24\u001b[0m \u001b[43m    \u001b[49m\u001b[43mcol\u001b[49m\u001b[43m(\u001b[49m\u001b[38;5;124;43m\"\u001b[39;49m\u001b[38;5;124;43mVolume USD\u001b[39;49m\u001b[38;5;124;43m\"\u001b[39;49m\u001b[43m)\u001b[49m\u001b[38;5;241;43m.\u001b[39;49m\u001b[43malias\u001b[49m\u001b[43m(\u001b[49m\u001b[38;5;124;43m\"\u001b[39;49m\u001b[38;5;124;43mbeta_value\u001b[39;49m\u001b[38;5;124;43m\"\u001b[39;49m\u001b[43m)\u001b[49m\u001b[43m,\u001b[49m\n\u001b[1;32m     25\u001b[0m \u001b[43m    \u001b[49m\n\u001b[1;32m     26\u001b[0m \u001b[43m    \u001b[49m\u001b[38;5;66;43;03m# Convert unix timestamp to actual timestamp\u001b[39;49;00m\n\u001b[1;32m     27\u001b[0m \u001b[43m    \u001b[49m\u001b[43mfrom_unixtime\u001b[49m\u001b[43m(\u001b[49m\u001b[43mcol\u001b[49m\u001b[43m(\u001b[49m\u001b[38;5;124;43m\"\u001b[39;49m\u001b[38;5;124;43munix\u001b[39;49m\u001b[38;5;124;43m\"\u001b[39;49m\u001b[43m)\u001b[49m\u001b[43m)\u001b[49m\u001b[38;5;241;43m.\u001b[39;49m\u001b[43malias\u001b[49m\u001b[43m(\u001b[49m\u001b[38;5;124;43m\"\u001b[39;49m\u001b[38;5;124;43mtimestamp\u001b[39;49m\u001b[38;5;124;43m\"\u001b[39;49m\u001b[43m)\u001b[49m\n\u001b[1;32m     28\u001b[0m \u001b[43m)\u001b[49m\n\u001b[1;32m     30\u001b[0m \u001b[38;5;66;03m# Step 6: Show the transformed DataFrame\u001b[39;00m\n\u001b[1;32m     31\u001b[0m df_transformed\u001b[38;5;241m.\u001b[39mshow()\n",
      "File \u001b[0;32m~/.pyenv/versions/3.10.6/envs/kafka_streamer/lib/python3.10/site-packages/pyspark/sql/dataframe.py:3229\u001b[0m, in \u001b[0;36mDataFrame.select\u001b[0;34m(self, *cols)\u001b[0m\n\u001b[1;32m   3184\u001b[0m \u001b[38;5;28;01mdef\u001b[39;00m \u001b[38;5;21mselect\u001b[39m(\u001b[38;5;28mself\u001b[39m, \u001b[38;5;241m*\u001b[39mcols: \u001b[38;5;124m\"\u001b[39m\u001b[38;5;124mColumnOrName\u001b[39m\u001b[38;5;124m\"\u001b[39m) \u001b[38;5;241m-\u001b[39m\u001b[38;5;241m>\u001b[39m \u001b[38;5;124m\"\u001b[39m\u001b[38;5;124mDataFrame\u001b[39m\u001b[38;5;124m\"\u001b[39m:  \u001b[38;5;66;03m# type: ignore[misc]\u001b[39;00m\n\u001b[1;32m   3185\u001b[0m \u001b[38;5;250m    \u001b[39m\u001b[38;5;124;03m\"\"\"Projects a set of expressions and returns a new :class:`DataFrame`.\u001b[39;00m\n\u001b[1;32m   3186\u001b[0m \n\u001b[1;32m   3187\u001b[0m \u001b[38;5;124;03m    .. versionadded:: 1.3.0\u001b[39;00m\n\u001b[0;32m   (...)\u001b[0m\n\u001b[1;32m   3227\u001b[0m \u001b[38;5;124;03m    +-----+---+\u001b[39;00m\n\u001b[1;32m   3228\u001b[0m \u001b[38;5;124;03m    \"\"\"\u001b[39;00m\n\u001b[0;32m-> 3229\u001b[0m     jdf \u001b[38;5;241m=\u001b[39m \u001b[38;5;28;43mself\u001b[39;49m\u001b[38;5;241;43m.\u001b[39;49m\u001b[43m_jdf\u001b[49m\u001b[38;5;241;43m.\u001b[39;49m\u001b[43mselect\u001b[49m\u001b[43m(\u001b[49m\u001b[38;5;28;43mself\u001b[39;49m\u001b[38;5;241;43m.\u001b[39;49m\u001b[43m_jcols\u001b[49m\u001b[43m(\u001b[49m\u001b[38;5;241;43m*\u001b[39;49m\u001b[43mcols\u001b[49m\u001b[43m)\u001b[49m\u001b[43m)\u001b[49m\n\u001b[1;32m   3230\u001b[0m     \u001b[38;5;28;01mreturn\u001b[39;00m DataFrame(jdf, \u001b[38;5;28mself\u001b[39m\u001b[38;5;241m.\u001b[39msparkSession)\n",
      "File \u001b[0;32m~/.pyenv/versions/3.10.6/envs/kafka_streamer/lib/python3.10/site-packages/py4j/java_gateway.py:1322\u001b[0m, in \u001b[0;36mJavaMember.__call__\u001b[0;34m(self, *args)\u001b[0m\n\u001b[1;32m   1316\u001b[0m command \u001b[38;5;241m=\u001b[39m proto\u001b[38;5;241m.\u001b[39mCALL_COMMAND_NAME \u001b[38;5;241m+\u001b[39m\\\n\u001b[1;32m   1317\u001b[0m     \u001b[38;5;28mself\u001b[39m\u001b[38;5;241m.\u001b[39mcommand_header \u001b[38;5;241m+\u001b[39m\\\n\u001b[1;32m   1318\u001b[0m     args_command \u001b[38;5;241m+\u001b[39m\\\n\u001b[1;32m   1319\u001b[0m     proto\u001b[38;5;241m.\u001b[39mEND_COMMAND_PART\n\u001b[1;32m   1321\u001b[0m answer \u001b[38;5;241m=\u001b[39m \u001b[38;5;28mself\u001b[39m\u001b[38;5;241m.\u001b[39mgateway_client\u001b[38;5;241m.\u001b[39msend_command(command)\n\u001b[0;32m-> 1322\u001b[0m return_value \u001b[38;5;241m=\u001b[39m \u001b[43mget_return_value\u001b[49m\u001b[43m(\u001b[49m\n\u001b[1;32m   1323\u001b[0m \u001b[43m    \u001b[49m\u001b[43manswer\u001b[49m\u001b[43m,\u001b[49m\u001b[43m \u001b[49m\u001b[38;5;28;43mself\u001b[39;49m\u001b[38;5;241;43m.\u001b[39;49m\u001b[43mgateway_client\u001b[49m\u001b[43m,\u001b[49m\u001b[43m \u001b[49m\u001b[38;5;28;43mself\u001b[39;49m\u001b[38;5;241;43m.\u001b[39;49m\u001b[43mtarget_id\u001b[49m\u001b[43m,\u001b[49m\u001b[43m \u001b[49m\u001b[38;5;28;43mself\u001b[39;49m\u001b[38;5;241;43m.\u001b[39;49m\u001b[43mname\u001b[49m\u001b[43m)\u001b[49m\n\u001b[1;32m   1325\u001b[0m \u001b[38;5;28;01mfor\u001b[39;00m temp_arg \u001b[38;5;129;01min\u001b[39;00m temp_args:\n\u001b[1;32m   1326\u001b[0m     \u001b[38;5;28;01mif\u001b[39;00m \u001b[38;5;28mhasattr\u001b[39m(temp_arg, \u001b[38;5;124m\"\u001b[39m\u001b[38;5;124m_detach\u001b[39m\u001b[38;5;124m\"\u001b[39m):\n",
      "File \u001b[0;32m~/.pyenv/versions/3.10.6/envs/kafka_streamer/lib/python3.10/site-packages/pyspark/errors/exceptions/captured.py:185\u001b[0m, in \u001b[0;36mcapture_sql_exception.<locals>.deco\u001b[0;34m(*a, **kw)\u001b[0m\n\u001b[1;32m    181\u001b[0m converted \u001b[38;5;241m=\u001b[39m convert_exception(e\u001b[38;5;241m.\u001b[39mjava_exception)\n\u001b[1;32m    182\u001b[0m \u001b[38;5;28;01mif\u001b[39;00m \u001b[38;5;129;01mnot\u001b[39;00m \u001b[38;5;28misinstance\u001b[39m(converted, UnknownException):\n\u001b[1;32m    183\u001b[0m     \u001b[38;5;66;03m# Hide where the exception came from that shows a non-Pythonic\u001b[39;00m\n\u001b[1;32m    184\u001b[0m     \u001b[38;5;66;03m# JVM exception message.\u001b[39;00m\n\u001b[0;32m--> 185\u001b[0m     \u001b[38;5;28;01mraise\u001b[39;00m converted \u001b[38;5;28;01mfrom\u001b[39;00m \u001b[38;5;28;01mNone\u001b[39;00m\n\u001b[1;32m    186\u001b[0m \u001b[38;5;28;01melse\u001b[39;00m:\n\u001b[1;32m    187\u001b[0m     \u001b[38;5;28;01mraise\u001b[39;00m\n",
      "\u001b[0;31mAnalysisException\u001b[0m: [UNRESOLVED_COLUMN.WITH_SUGGESTION] A column or function parameter with name `symbol` cannot be resolved. Did you mean one of the following? [`price`, `timestamp`, `volume_BTC`, `volume_USD`].;\n'Project [price#1660, Volume_USD#1664, round((((Volume_USD#1664 - lag(Volume_USD#1664, -1, null) windowspecdefinition(timestamp#1670 ASC NULLS FIRST, specifiedwindowframe(RowFrame, -1, -1))) / lag(Volume_USD#1664, -1, null) windowspecdefinition(timestamp#1670 ASC NULLS FIRST, specifiedwindowframe(RowFrame, -1, -1))) * cast(100 as double)), 2) AS volume_24h_change_24h#1862, round((((price#1660 - lag(price#1660, -3, null) windowspecdefinition(timestamp#1670 ASC NULLS FIRST, specifiedwindowframe(RowFrame, -3, -3))) / lag(price#1660, -3, null) windowspecdefinition(timestamp#1670 ASC NULLS FIRST, specifiedwindowframe(RowFrame, -3, -3))) * cast(100 as double)), 2) AS percent_change_15m#1863, round((((price#1660 - lag(price#1660, -6, null) windowspecdefinition(timestamp#1670 ASC NULLS FIRST, specifiedwindowframe(RowFrame, -6, -6))) / lag(price#1660, -6, null) windowspecdefinition(timestamp#1670 ASC NULLS FIRST, specifiedwindowframe(RowFrame, -6, -6))) * cast(100 as double)), 2) AS percent_change_30m#1864, round((((price#1660 - lag(price#1660, -12, null) windowspecdefinition(timestamp#1670 ASC NULLS FIRST, specifiedwindowframe(RowFrame, -12, -12))) / lag(price#1660, -12, null) windowspecdefinition(timestamp#1670 ASC NULLS FIRST, specifiedwindowframe(RowFrame, -12, -12))) * cast(100 as double)), 2) AS percent_change_1h#1865, round((((price#1660 - lag(price#1660, -72, null) windowspecdefinition(timestamp#1670 ASC NULLS FIRST, specifiedwindowframe(RowFrame, -72, -72))) / lag(price#1660, -72, null) windowspecdefinition(timestamp#1670 ASC NULLS FIRST, specifiedwindowframe(RowFrame, -72, -72))) * cast(100 as double)), 2) AS percent_change_6h#1866, round((((price#1660 - lag(price#1660, -144, null) windowspecdefinition(timestamp#1670 ASC NULLS FIRST, specifiedwindowframe(RowFrame, -144, -144))) / lag(price#1660, -144, null) windowspecdefinition(timestamp#1670 ASC NULLS FIRST, specifiedwindowframe(RowFrame, -144, -144))) * cast(100 as double)), 2) AS percent_change_12h#1867, round((((price#1660 - lag(price#1660, -288, null) windowspecdefinition(timestamp#1670 ASC NULLS FIRST, specifiedwindowframe(RowFrame, -288, -288))) / lag(price#1660, -288, null) windowspecdefinition(timestamp#1670 ASC NULLS FIRST, specifiedwindowframe(RowFrame, -288, -288))) * cast(100 as double)), 2) AS percent_change_24h#1868, round((((price#1660 - lag(price#1660, -2016, null) windowspecdefinition(timestamp#1670 ASC NULLS FIRST, specifiedwindowframe(RowFrame, -2016, -2016))) / lag(price#1660, -2016, null) windowspecdefinition(timestamp#1670 ASC NULLS FIRST, specifiedwindowframe(RowFrame, -2016, -2016))) * cast(100 as double)), 2) AS percent_change_7d#1869, round((((price#1660 - lag(price#1660, -8640, null) windowspecdefinition(timestamp#1670 ASC NULLS FIRST, specifiedwindowframe(RowFrame, -8640, -8640))) / lag(price#1660, -8640, null) windowspecdefinition(timestamp#1670 ASC NULLS FIRST, specifiedwindowframe(RowFrame, -8640, -8640))) * cast(100 as double)), 2) AS percent_change_30d#1870, round((((price#1660 - lag(price#1660, -105120, null) windowspecdefinition(timestamp#1670 ASC NULLS FIRST, specifiedwindowframe(RowFrame, -105120, -105120))) / lag(price#1660, -105120, null) windowspecdefinition(timestamp#1670 ASC NULLS FIRST, specifiedwindowframe(RowFrame, -105120, -105120))) * cast(100 as double)), 2) AS percent_change_1y#1871, 'symbol, 'Volume USD AS beta_value#1872, from_unixtime('unix, yyyy-MM-dd HH:mm:ss, Some(Europe/Brussels)) AS timestamp#1873]\n+- Project [time_window#1648.end AS timestamp#1670, price#1660, volume_BTC#1662, volume_USD#1664]\n   +- Aggregate [window#1665], [window#1665 AS time_window#1648, last(close#1380, false) AS price#1660, sum(Volume BTC#1381) AS volume_BTC#1662, sum(Volume USD#1382) AS volume_USD#1664]\n      +- Project [named_struct(start, knownnullable(precisetimestampconversion(((precisetimestampconversion(timestamp#1636, TimestampType, LongType) - CASE WHEN (((precisetimestampconversion(timestamp#1636, TimestampType, LongType) - 0) % 300000000) < cast(0 as bigint)) THEN (((precisetimestampconversion(timestamp#1636, TimestampType, LongType) - 0) % 300000000) + 300000000) ELSE ((precisetimestampconversion(timestamp#1636, TimestampType, LongType) - 0) % 300000000) END) - 0), LongType, TimestampType)), end, knownnullable(precisetimestampconversion((((precisetimestampconversion(timestamp#1636, TimestampType, LongType) - CASE WHEN (((precisetimestampconversion(timestamp#1636, TimestampType, LongType) - 0) % 300000000) < cast(0 as bigint)) THEN (((precisetimestampconversion(timestamp#1636, TimestampType, LongType) - 0) % 300000000) + 300000000) ELSE ((precisetimestampconversion(timestamp#1636, TimestampType, LongType) - 0) % 300000000) END) - 0) + 300000000), LongType, TimestampType))) AS window#1665, unix#1374, date#1375, symbol#1376, open#1377, high#1378, low#1379, close#1380, Volume BTC#1381, Volume USD#1382, timestamp#1636]\n         +- Filter isnotnull(timestamp#1636)\n            +- Sort [timestamp#1636 ASC NULLS FIRST], true\n               +- Project [unix#1374, date#1375, symbol#1376, open#1377, high#1378, low#1379, close#1380, Volume BTC#1381, Volume USD#1382, cast(from_unixtime(cast(unix#1374 as bigint), yyyy-MM-dd HH:mm:ss, Some(Europe/Brussels)) as timestamp) AS timestamp#1636]\n                  +- Sort [timestamp#1555 ASC NULLS FIRST], true\n                     +- Project [unix#1374, date#1375, symbol#1376, open#1377, high#1378, low#1379, close#1380, Volume BTC#1381, Volume USD#1382, cast(from_unixtime(cast(unix#1374 as bigint), yyyy-MM-dd HH:mm:ss, Some(Europe/Brussels)) as timestamp) AS timestamp#1555]\n                        +- Project [unix#1374, date#1375, symbol#1376, open#1377, high#1378, low#1379, close#1380, Volume BTC#1381, Volume USD#1382, cast(from_unixtime(cast(unix#1374 as bigint), yyyy-MM-dd HH:mm:ss, Some(Europe/Brussels)) as timestamp) AS timestamp#1474]\n                           +- Sort [timestamp#1439 ASC NULLS FIRST], true\n                              +- Project [unix#1374, date#1375, symbol#1376, open#1377, high#1378, low#1379, close#1380, Volume BTC#1381, Volume USD#1382, cast(from_unixtime(cast(unix#1374 as bigint), yyyy-MM-dd HH:mm:ss, Some(Europe/Brussels)) as timestamp) AS timestamp#1439]\n                                 +- Relation [unix#1374,date#1375,symbol#1376,open#1377,high#1378,low#1379,close#1380,Volume BTC#1381,Volume USD#1382] csv\n"
     ]
    }
   ],
   "source": [
    "# Step 5: Transform the DataFrame according to the schema\n",
    "df_transformed = df_resampled.select(\n",
    "    col(\"price\"),\n",
    "    col(\"Volume_USD\"),\n",
    "    # Calculate volume_24h_change_24h as the percentage change from the previous row\n",
    "    round((col(\"Volume_USD\") - lag(\"Volume_USD\", 1).over(window_spec)) / lag(\"Volume_USD\", 1).over(window_spec) * 100, 2)\n",
    "    .alias(\"volume_24h_change_24h\"),\n",
    "\n",
    "    # Calculate percentage change for different intervals (15m, 30m, 1h, 6h, 12h, 24h, 7d, 30d, 1y)\n",
    "    round(calculate_percentage_change(col(\"price\"), lag(\"price\", 3).over(window_spec)), 2).alias(\"percent_change_15m\"),  # Assuming 1m intervals\n",
    "    round(calculate_percentage_change(col(\"price\"), lag(\"price\", 6).over(window_spec)), 2).alias(\"percent_change_30m\"),\n",
    "    round(calculate_percentage_change(col(\"price\"), lag(\"price\", 12).over(window_spec)), 2).alias(\"percent_change_1h\"),\n",
    "    round(calculate_percentage_change(col(\"price\"), lag(\"price\", 72).over(window_spec)), 2).alias(\"percent_change_6h\"),   # 72 mins is approx. 6h\n",
    "    round(calculate_percentage_change(col(\"price\"), lag(\"price\", 144).over(window_spec)), 2).alias(\"percent_change_12h\"), # 144 mins is approx. 12h\n",
    "    round(calculate_percentage_change(col(\"price\"), lag(\"price\", 288).over(window_spec)), 2).alias(\"percent_change_24h\"), # 288 mins is approx. 24h\n",
    "    round(calculate_percentage_change(col(\"price\"), lag(\"price\", 2016).over(window_spec)), 2).alias(\"percent_change_7d\"), # 2016 mins is approx. 7 days\n",
    "    round(calculate_percentage_change(col(\"price\"), lag(\"price\", 8640).over(window_spec)), 2).alias(\"percent_change_30d\"),# 8640 mins is approx. 30 days\n",
    "    round(calculate_percentage_change(col(\"price\"), lag(\"price\", 105120).over(window_spec)), 2).alias(\"percent_change_1y\"),# 105120 mins is approx. 1 year\n",
    "    \n",
    "    # Map the `symbol` from CSV\n",
    "    col(\"symbol\"),\n",
    "    \n",
    "    # Placeholder for beta_value\n",
    "    col(\"Volume USD\").alias(\"beta_value\"),\n",
    "    \n",
    "    # Convert unix timestamp to actual timestamp\n",
    "    from_unixtime(col(\"unix\")).alias(\"timestamp\")\n",
    ")\n",
    "\n",
    "# Step 6: Show the transformed DataFrame\n",
    "df_transformed.show()"
   ]
  },
  {
   "cell_type": "code",
   "execution_count": null,
   "metadata": {},
   "outputs": [],
   "source": []
  }
 ],
 "metadata": {
  "kernelspec": {
   "display_name": "kafka_streamer",
   "language": "python",
   "name": "python3"
  },
  "language_info": {
   "codemirror_mode": {
    "name": "ipython",
    "version": 3
   },
   "file_extension": ".py",
   "mimetype": "text/x-python",
   "name": "python",
   "nbconvert_exporter": "python",
   "pygments_lexer": "ipython3",
   "version": "3.10.6"
  }
 },
 "nbformat": 4,
 "nbformat_minor": 2
}
